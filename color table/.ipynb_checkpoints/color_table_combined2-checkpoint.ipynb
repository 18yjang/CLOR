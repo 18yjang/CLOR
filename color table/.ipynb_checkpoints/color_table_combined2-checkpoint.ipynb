{
 "cells": [
  {
   "cell_type": "markdown",
   "metadata": {
    "id": "2CqGSIMhO3lB"
   },
   "source": [
    "**Dominant Color 찾기**"
   ]
  },
  {
   "cell_type": "code",
   "execution_count": null,
   "metadata": {
    "colab": {
     "base_uri": "https://localhost:8080/"
    },
    "id": "-dJLchfiOxHA",
    "outputId": "0320a5fd-38ae-416b-8747-d94807ac2f20"
   },
   "outputs": [
    {
     "name": "stdout",
     "output_type": "stream",
     "text": [
      "Requirement already satisfied: opencv-python in /usr/local/lib/python3.7/dist-packages (4.1.2.30)\n",
      "Requirement already satisfied: numpy>=1.14.5 in /usr/local/lib/python3.7/dist-packages (from opencv-python) (1.19.5)\n"
     ]
    }
   ],
   "source": [
    "pip install opencv-python"
   ]
  },
  {
   "cell_type": "code",
   "execution_count": null,
   "metadata": {
    "id": "lqJ08MgIPG0g"
   },
   "outputs": [],
   "source": [
    "from google.colab.patches import cv2_imshow"
   ]
  },
  {
   "cell_type": "code",
   "execution_count": null,
   "metadata": {
    "id": "KN_mbGxTO1aY"
   },
   "outputs": [],
   "source": [
    "import cv2, numpy as np\n",
    "from sklearn.cluster import KMeans\n",
    "\n",
    "def visualize_colors(cluster, centroids):\n",
    "    # Get the number of different clusters, create histogram, and normalize\n",
    "    labels = np.arange(0, len(np.unique(cluster.labels_)) + 1)\n",
    "    (hist, _) = np.histogram(cluster.labels_, bins = labels)\n",
    "    hist = hist.astype(\"float\")\n",
    "    hist /= hist.sum()\n",
    "\n",
    "    # Create frequency rect and iterate through each cluster's color and percentage\n",
    "    rect = np.zeros((50, 300, 3), dtype=np.uint8)\n",
    "    colors = sorted([(percent, color) for (percent, color) in zip(hist, centroids)])\n",
    "    start = 0\n",
    "\n",
    "    dominant = 0\n",
    "\n",
    "    for (percent, color) in colors:\n",
    "        #print(color, \"{:0.2f}%\".format(percent * 100))\n",
    "        color = color.astype(np.int64)\n",
    "        if dominant < percent*100 :\n",
    "          if np.array_equal(color, [0,0,0]) == False :\n",
    "            dom_color = color\n",
    "        end = start + (percent * 300)\n",
    "        cv2.rectangle(rect, (int(start), 0), (int(end), 50), \\\n",
    "                      color.astype(\"uint8\").tolist(), -1)\n",
    "        start = end\n",
    "    return dom_color, rect"
   ]
  },
  {
   "cell_type": "code",
   "execution_count": null,
   "metadata": {
    "colab": {
     "base_uri": "https://localhost:8080/",
     "height": 102
    },
    "id": "BeEAAgbTPcGe",
    "outputId": "e1bd29dc-e6b3-4990-c979-e7116e0a4ba9"
   },
   "outputs": [
    {
     "name": "stdout",
     "output_type": "stream",
     "text": [
      "[229 218 191]\n"
     ]
    },
    {
     "data": {
      "image/png": "[encoded data removed]",
      "text/plain": [
       "<PIL.Image.Image image mode=RGB size=300x50 at 0x7FB4C6453110>"
      ]
     },
     "metadata": {},
     "output_type": "display_data"
    },
    {
     "data": {
      "text/plain": [
       "-1"
      ]
     },
     "execution_count": 5,
     "metadata": {},
     "output_type": "execute_result"
    }
   ],
   "source": [
    "# Load image and convert to a list of pixels\n",
    "# 배경 삭제한 사진 넣기!!***\n",
    "image = cv2.imread('/content/drive/MyDrive/clor/2.png')\n",
    "image = cv2.cvtColor(image, cv2.COLOR_BGR2RGB)\n",
    "reshape = image.reshape((image.shape[0] * image.shape[1], 3))\n",
    "\n",
    "# Find most dominant colors\n",
    "cluster = KMeans(n_clusters=10).fit(reshape)\n",
    "dominant, visualize = visualize_colors(cluster, cluster.cluster_centers_)\n",
    "print(dominant)\n",
    "\n",
    "# Display most dominant colors - 생략 가능\n",
    "visualize = cv2.cvtColor(visualize, cv2.COLOR_RGB2BGR)\n",
    "cv2_imshow(visualize)\n",
    "cv2.waitKey()"
   ]
  },
  {
   "cell_type": "markdown",
   "metadata": {
    "id": "XCOJlypJOKst"
   },
   "source": [
    "작성한 color_table.csv 파일로 numpy data 생성\n",
    "csv 배열로 저장"
   ]
  },
  {
   "cell_type": "code",
   "execution_count": null,
   "metadata": {
    "id": "HqrSNAaNBtgx"
   },
   "outputs": [],
   "source": [
    "import numpy as np\n",
    "import csv\n",
    "import json\n",
    "\n",
    "data=[]\n",
    "\n",
    "file = open('/content/drive/MyDrive/clor/color_table2.csv', 'r', encoding='utf-8')    # file : 파일객체\n",
    "\n",
    "reader = csv.reader(file)  # csv.reader(): for loop을 돌면서 line by line read\n",
    "\n",
    "for line in reader :\n",
    "    data.append(line[1: ])  #color_name 부분은 제외하고 나머지 부분만 append\n",
    "\n",
    "file.close()\n",
    "\n",
    "#print(data)\n",
    "\n",
    "xy =np.array(data[1:])   # 맨 첫줄 column name 제외하고 data만 xy 매트릭스에 저장\n",
    "\n",
    "#print(xy)"
   ]
  },
  {
   "cell_type": "markdown",
   "metadata": {
    "id": "CzcP44_2OV0T"
   },
   "source": [
    "어울리는 pair 입력하기"
   ]
  },
  {
   "cell_type": "code",
   "execution_count": null,
   "metadata": {
    "id": "DJobcrVzOX4I"
   },
   "outputs": [],
   "source": [
    "#contrasting pair\n",
    "c_pair = {0 : [6, 7, 10], 1 : [6, 7, 10], 2 : [5, 6, 7], 3 : [7, 8, 9], 4 : [5, 7, 12], \\\n",
    "          5 : [42, 8, 16], 6 : [0, 1, 2], 7 : [0, 1, 10], 8 : [42, 5, 10], 9 : [3, 11, 12], \n",
    "          10 : [0, 7, 8], 11 : [12, 18, 21], 12 : [13, 14, 15], \\\n",
    "          13 : [18, 19, 21], 14 : [20, 19, 21], 15 : [19, 20, 21], 16 : [18, 20, 21], 17 : [11, 13, 12], \\\n",
    "          18 : [13, 15, 17], 19 : [11, 13, 14], 20 : [13, 15, 18], 21 : [13, 15, 16], \\\n",
    "          22 : [28, 29, 21], 23 : [46, 21, 29], 24 : [46, 21, 12], 25 : [11, 22, 29], \\\n",
    "          26 : [23, 36, 28], 27 : [11, 47, 21], 28 : [11, 22, 47], 29 : [22, 23, 24], \\\n",
    "          30 : [36, 37, 46], 31 : [34, 35, 36], 32 : [34, 36, 47], 33 : [36, 47, 12], \\\n",
    "          34 : [35, 36, 37], 35 : [11, 31, 32], 36 : [32, 30, 16], 37 : [34, 32, 31], \\\n",
    "          38 : [35, 36, 12], 39 : [11, 36, 37], 40 : [35, 36, 46], 41 : [11, 36, 46], \\\n",
    "          42 : [11, 36, 46], 43 : [11, 36, 37], 44 : [35, 36, 46], 45 : [11, 36, 46], \\\n",
    "          46 : [14, 15, 30], 47 : [30, 32, 33], 48 : [11, 35, 36], 49 : [11, 35, 36], \\\n",
    "          50 : [11, 54, 73], 51 : [79, 80, 11], 52 : [73, 53, 72], 53 : [63, 75, 52], \\\n",
    "          54 : [55, 43, 63], 55 : [54, 53, 59], 56 : [11, 57, 54], 57 : [30, 73, 11], \\\n",
    "          58 : [59, 11, 54], 59 : [80, 52, 53], 60 : [73, 53, 54], 61 : [59, 73, 42], \\\n",
    "          62 : [43, 70, 14], 63 : [12, 72, 47], 64 : [73, 63, 12], 65 : [26, 11, 14], \\\n",
    "          66 : [68, 55, 14], 67 : [68, 55, 14], 68 : [66, 67, 55], 69 : [72, 47, 12], \\\n",
    "          70 : [71, 26, 76], 71 : [26, 70, 74], 72 : [77, 73, 74], 73 : [77, 74, 47], \\\n",
    "          74 : [72, 47, 72], 75 : [72, 26, 71], 76 : [70, 74, 69], 77 : [76, 72, 71], \\\n",
    "          78 : [72, 79, 59], 79 : [51, 77, 73], 80 : [61, 72, 35]}\n",
    "\n",
    "#tonal pair\n",
    "t_pair = {0 : [1, 33, 32], 1 : [0, 3, 27], 2 : [3, 9, 44], 3 : [30, 80, 63], 4 : [3, 74, 30], \\\n",
    "          5 : [4, 6, 50], 6 : [7, 8, 54], 7 : [6, 8, 54], 8 : [48, 49, 60], 9 : [17, 26, 45], \\\n",
    "          10 : [11, 12, 35], 11 : [13, 14, 15], 12 : [20, 21, 47], \\\n",
    "          13 : [11, 14, 63], 14 : [15, 17, 63], 15 : [13, 16, 17], 16 : [13, 14, 17], 17 : [14, 15, 16], \\\n",
    "          18 : [19, 36, 47], 19 : [18, 47, 36], 20 : [11, 21, 12], 21 : [11, 20, 12], \\\n",
    "          22 : [23, 33, 32], 23 : [22, 33, 32], 24 : [25, 26, 79], 25 : [24, 26, 79], \\\n",
    "          26 : [24, 25, 79], 27 : [22, 23, 29], 28 : [27, 29, 68], 29 : [27, 28, 64], \\\n",
    "          30 : [24, 25, 26], 31 : [32, 33, 23], 32 : [31, 33, 23], 33 : [31, 27, 29], \\\n",
    "          34 : [48, 49, 60], 35 : [36, 21, 47], 36 : [47, 37, 35], 37 : [47, 12, 35], \\\n",
    "          38 : [42, 44, 40], 39 : [40, 42, 45], 40 : [39, 43, 45], 41 : [39, 44, 45], \\\n",
    "          42 : [39, 44, 43], 43 : [42, 44, 45], 44 : [39, 40, 45], 45 : [39, 44, 43], \\\n",
    "          46 : [21, 20, 37], 47 : [35, 36, 37], 48 : [34, 49, 60], 49 : [34, 48, 60], \\\n",
    "          50 : [69, 77, 51], 51 : [70, 77, 18], 52 : [13, 78, 32], 53 : [54, 72, 76], \\\n",
    "          54 : [57, 72, 59], 55 : [11, 75, 30], 56 : [64, 68, 27], 57 : [61, 72, 71], \\\n",
    "          58 : [52, 32, 33], 59 : [54, 57, 72], 60 : [48, 49, 34], 61 : [54, 72, 62], \\\n",
    "          62 : [61, 54, 72], 63 : [11, 80, 75], 64 : [29, 68, 45], 65 : [53, 54, 72], \\\n",
    "          66 : [70, 51, 67], 67 : [51, 70, 66], 68 : [64, 28, 29], 69 : [11, 13, 75], \\\n",
    "          70 : [50, 66, 69], 71 : [72, 76, 53], 72 : [71, 76, 53], 73 : [75, 13, 35], \\\n",
    "          74 : [14, 13, 75], 75 : [14, 35, 63], 76 : [71, 72, 53], 77 : [70, 66, 50], \\\n",
    "          78 : [11, 75, 14], 79 : [25, 80, 63], 80 : [79, 63, 14]}"
   ]
  },
  {
   "cell_type": "markdown",
   "metadata": {
    "id": "Lm49hYt7OYcO"
   },
   "source": [
    "RGB 값을 Lab으로 변환해서 similar color 찾아 similar color과 어울리는 색상 pair의 값 출력"
   ]
  },
  {
   "cell_type": "code",
   "execution_count": null,
   "metadata": {
    "colab": {
     "base_uri": "https://localhost:8080/"
    },
    "id": "lFaiLBtjBuGy",
    "outputId": "0960c139-8abc-481e-d146-5da9cf55d412"
   },
   "outputs": [
    {
     "name": "stdout",
     "output_type": "stream",
     "text": [
      "Collecting colormath\n",
      "  Downloading colormath-3.0.0.tar.gz (39 kB)\n",
      "Requirement already satisfied: numpy in /usr/local/lib/python3.7/dist-packages (from colormath) (1.19.5)\n",
      "Requirement already satisfied: networkx>=2.0 in /usr/local/lib/python3.7/dist-packages (from colormath) (2.6.3)\n",
      "Building wheels for collected packages: colormath\n",
      "  Building wheel for colormath (setup.py) ... \u001b[?25l\u001b[?25hdone\n",
      "  Created wheel for colormath: filename=colormath-3.0.0-py3-none-any.whl size=39408 sha256=a93c1f7c8d25a2de5920147b37befb32a0994e8126529259de5cb0fd32f466b5\n",
      "  Stored in directory: /root/.cache/pip/wheels/1a/d7/a7/458a4632ccc8bfe436f5e9db9fef1aa84e5d243a1b4b4c7b59\n",
      "Successfully built colormath\n",
      "Installing collected packages: colormath\n",
      "Successfully installed colormath-3.0.0\n"
     ]
    }
   ],
   "source": [
    "pip install colormath "
   ]
  },
  {
   "cell_type": "code",
   "execution_count": null,
   "metadata": {
    "id": "aA59Cr_UEnD7"
   },
   "outputs": [],
   "source": [
    "from colormath.color_objects import LabColor, sRGBColor\n",
    "from colormath.color_conversions import convert_color\n",
    "from colormath.color_diff import delta_e_cie2000\n",
    "\n",
    "#입력받은 input - 연결 필요\n",
    "input = sRGBColor(dominant[0], dominant[1], dominant[2], is_upscaled=True) \n",
    "input_lab = convert_color(input, LabColor, through_rgb_type=sRGBColor)\n"
   ]
  },
  {
   "cell_type": "code",
   "execution_count": null,
   "metadata": {
    "colab": {
     "base_uri": "https://localhost:8080/"
    },
    "id": "Ruz38uzccCKF",
    "outputId": "1087bf53-3e50-4eef-abc8-4bda3936b53f"
   },
   "outputs": [
    {
     "name": "stdout",
     "output_type": "stream",
     "text": [
      "유사 기준 :  2.4146032410000506\n",
      "가장 유사한 색상 인덱스 :  14\n",
      "색상 :  #E5DABF\n",
      "#complement 조합 :  [20, 19, 21]\n",
      "20 번 색상 (  #A7ACB2 )\n",
      "19 번 색상 (  #7B7663 )\n",
      "21 번 색상 (  #434B4D )\n",
      "#tonal 조합 :  [15, 17, 63]\n",
      "15 번 색상 (  #EAD7C9 )\n",
      "17 번 색상 (  #AA8E78 )\n",
      "63 번 색상 (  #D8CDB0 )\n"
     ]
    }
   ],
   "source": [
    "similar = 100000000\n",
    "index = 0\n",
    "\n",
    "#색상 테이블 수에 따라서 range안의 값 바꾸기 - 출력해서 수 확인+1\n",
    "for i in range(81) : \n",
    "  color_n = xy[i][0]\n",
    "\n",
    "  #sRGB 클래스 인스턴스 생성. RGB 값을 넣을 때 is_upscaled=True로 해줘야 함\n",
    "  rgb = sRGBColor(float(xy[i][1]),float(xy[i][2]), float(xy[i][3]), is_upscaled=True)\n",
    "\n",
    "  #Lab으로 변환\n",
    "  lab = convert_color(rgb, LabColor, through_rgb_type=sRGBColor)\n",
    "  #print(lab)\n",
    "\n",
    "  delta_e = delta_e_cie2000(input_lab, lab)\n",
    "  #print(i, '번: ',delta_e)\n",
    "\n",
    "  if(similar > delta_e) :\n",
    "    similar = delta_e\n",
    "    index = i\n",
    "\n",
    "best_pair_c = c_pair[index]\n",
    "best_pair_t = t_pair[index]\n",
    "\n",
    "if (similar > 15) :\n",
    "  print('유사 주의')\n",
    "\n",
    "def rgb2hex(r, g, b): \n",
    "\thex_color = \"#\" + base10Tobase16(r) + base10Tobase16(g) + base10Tobase16(b) \n",
    "\treturn hex_color\n",
    "\n",
    "def base10Tobase16(i): \n",
    "\tbase16 = \"%02X\" % int(i) \n",
    "\treturn base16 \n",
    "\n",
    "\n",
    "print('유사 기준 : ', similar)\n",
    "print('가장 유사한 색상 인덱스 : ', index) \n",
    "print('색상 : ', rgb2hex(dominant[0], dominant[1], dominant[2]))\n",
    "\n",
    "print('#complement 조합 : ',best_pair_c) #complementary 배색 \n",
    "for i in best_pair_c :\n",
    "  r = int(xy[i][1])\n",
    "  g = int(xy[i][2])\n",
    "  b = int(xy[i][3])\n",
    "  print(i, '번 색상', '( ',rgb2hex(r, g, b), ')')\n",
    "\n",
    "print('#tonal 조합 : ', best_pair_t) #tonal 배색\n",
    "for i in best_pair_t :\n",
    "  r = int(xy[i][1])\n",
    "  g = int(xy[i][2])\n",
    "  b = int(xy[i][3])\n",
    "  print(i, '번 색상', '( ',rgb2hex(r, g, b), ')')\n"
   ]
  }
 ],
 "metadata": {
  "colab": {
   "collapsed_sections": [],
   "name": "color_table_combined2.ipynb",
   "provenance": []
  },
  "kernelspec": {
   "display_name": "Python 3 (ipykernel)",
   "language": "python",
   "name": "python3"
  },
  "language_info": {
   "codemirror_mode": {
    "name": "ipython",
    "version": 3
   },
   "file_extension": ".py",
   "mimetype": "text/x-python",
   "name": "python",
   "nbconvert_exporter": "python",
   "pygments_lexer": "ipython3",
   "version": "3.8.3"
  }
 },
 "nbformat": 4,
 "nbformat_minor": 1
}
