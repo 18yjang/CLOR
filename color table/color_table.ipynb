{
  "nbformat": 4,
  "nbformat_minor": 0,
  "metadata": {
    "colab": {
      "name": "color_table.ipynb",
      "provenance": []
    },
    "kernelspec": {
      "name": "python3",
      "display_name": "Python 3"
    },
    "language_info": {
      "name": "python"
    }
  },
  "cells": [
    {
      "cell_type": "markdown",
      "metadata": {
        "id": "XCOJlypJOKst"
      },
      "source": [
        "작성한 color_table.csv 파일로 numpy data 생성\n",
        "csv 배열로 저장"
      ]
    },
    {
      "cell_type": "code",
      "metadata": {
        "id": "HqrSNAaNBtgx"
      },
      "source": [
        "import numpy as np\n",
        "import csv\n",
        "\n",
        "data=[]\n",
        "\n",
        "file = open('/content/drive/MyDrive/clor/color_table.csv', 'r', encoding='utf-8')    # file : 파일객체\n",
        "\n",
        "reader = csv.reader(file)  # csv.reader(): for loop을 돌면서 line by line read\n",
        "\n",
        "for line in reader :\n",
        "    data.append(line[1: ])  #color_name 부분은 제외하고 나머지 부분만 append\n",
        "\n",
        "file.close()\n",
        "\n",
        "#print(data)\n",
        "\n",
        "xy =np.array(data[1:])   # 맨 첫줄 column name 제외하고 data만 xy 매트릭스에 저장\n",
        "\n",
        "#print(xy)"
      ],
      "execution_count": 52,
      "outputs": []
    },
    {
      "cell_type": "markdown",
      "metadata": {
        "id": "CzcP44_2OV0T"
      },
      "source": [
        "어울리는 pair 입력하기"
      ]
    },
    {
      "cell_type": "code",
      "metadata": {
        "id": "DJobcrVzOX4I"
      },
      "source": [
        "#contrasting pair\n",
        "c_pair = {0 : [6, 7, 10, 11, 12], 1 : [6, 7, 10, 11, 12], 2 : [5, 6, 7, 11, 12], \\\n",
        "          3 : [7, 8, 9, 11, 12], 4 : [5, 7, 11, 12], 5 : [2, 8, 11, 12], 6 : [0, 1, 2, 11, 12], \\\n",
        "          7 : [0, 1, 4, 10, 11, 12], 8 : [2, 5, 10, 11, 12], 9 : [3, 11, 12], 10 : [0, 1, 7, 8], \\\n",
        "          11 : [14, 15, 16, 18, 21, 22], 12 : [13, 14, 15, 16, 18], 13 : [15, 18, 19, 12, 21], 14 : [11, 19], 15 : [11, 19, 20, 21, 12], \\\n",
        "          16 : [11, 18, 21, 12], 17 : [11, 13, 12], 18 : [11, 13, 15, 17, 12], 19 : [11, 13, 14, 12], 20 : [15, 18], 21 : [13, 15, 16], \\\n",
        "          22 : [11, 28, 29, 12], 23 : [11, 12, 20, 21], 24 : [11, 22, 46, 21, 12], 25 : [11, 22, 29, 12], \\\n",
        "          26 : [11, 23, 28, 20, 12], 27 : [11, 12, 21], 28 : [11, 22, 26, 12], 29 : [11, 22, 23, 24, 12], \\\n",
        "          30 : [11, 36, 37, 46], 31 : [11, 34, 35, 36, 12], 32 : [11, 34, 36, 47, 12], 33 : [11, 36, 47, 12], \\\n",
        "          34 : [11, 32, 31, 27, 12], 35 : [11, 31, 32], 36 : [11, 32, 30, 16, 17], 37 : [11, 34, 32, 31, 33], \\\n",
        "          38 : [11, 35, 36, 12], 39 : [11, 36, 37], 40 : [11, 35, 36, 46], 41 : [11, 36, 46, 12], 42 : [11, 36, 46, 12], \\\n",
        "          43 : [11, 36, 37], 44 : [11, 35, 36, 46], 45 : [11, 36, 46, 12], 46 : [14, 15, 30, 45], 47 : [30, 32, 33]}\n",
        "\n",
        "#tonal pair\n",
        "t_pair = {0 : [1, 3], 1 : [0, 3], 2 : [3, 9], 3 : [4, 2], 4 : [3], \\\n",
        "          5 : [4, 6], 6 : [7, 8], 7 : [6, 8], 8 : [6, 7], 9 : [2], 10 : [11, 12], \\\n",
        "          11 : [13, 20], 12 : [20, 21], 13 : [11], 14 : [15, 17], 15 : [13, 16, 17], 16 : [13, 14], \\\n",
        "          17 : [14, 15, 16], 18 : [19], 19 : [18], 20 : [11, 21, 12], 21 : [11, 20, 12], \\\n",
        "          22 : [23], 23 : [22, 28, 29], 24 : [25, 26], 25 : [24, 26], 26 : [24, 25], \\\n",
        "          27 : [22, 23, 28, 29], 28 : [27, 29], 29 : [27, 28], \\\n",
        "          30 : [24, 25], 31 : [32, 33], 32 : [31, 33], 33 : [31, 27, 29], 34 : [], 35 : [36, 21, 47], \\\n",
        "          36 : [47, 37], 37 : [47, 12], 38 : [42, 44], 39 : [40, 42, 45], 40 : [39, 43, 45], \\\n",
        "          41 : [39, 44], 42 : [39, 44, 43], 43 : [42, 44, 45], 44 : [39, 40], 45 : [39, 44, 43], 46 : [21, 20], 47 : [35, 36, 37]}"
      ],
      "execution_count": 53,
      "outputs": []
    },
    {
      "cell_type": "markdown",
      "metadata": {
        "id": "Lm49hYt7OYcO"
      },
      "source": [
        "RGB 값을 Lab으로 변환해서 similar color 찾아 similar color과 어울리는 색상 pair의 값 출력"
      ]
    },
    {
      "cell_type": "code",
      "metadata": {
        "colab": {
          "base_uri": "https://localhost:8080/"
        },
        "id": "lFaiLBtjBuGy",
        "outputId": "a87612fb-6238-4889-a315-07fb19b8ae23"
      },
      "source": [
        "pip install colormath "
      ],
      "execution_count": 54,
      "outputs": [
        {
          "output_type": "stream",
          "name": "stdout",
          "text": [
            "Requirement already satisfied: colormath in /usr/local/lib/python3.7/dist-packages (3.0.0)\n",
            "Requirement already satisfied: numpy in /usr/local/lib/python3.7/dist-packages (from colormath) (1.19.5)\n",
            "Requirement already satisfied: networkx>=2.0 in /usr/local/lib/python3.7/dist-packages (from colormath) (2.6.3)\n"
          ]
        }
      ]
    },
    {
      "cell_type": "code",
      "metadata": {
        "id": "aA59Cr_UEnD7"
      },
      "source": [
        "from colormath.color_objects import LabColor, sRGBColor\n",
        "from colormath.color_conversions import convert_color\n",
        "from colormath.color_diff import delta_e_cie2000\n",
        "\n",
        "#입력받은 input - 연결 필요\n",
        "input = sRGBColor(204, 255, 0, is_upscaled=True) \n",
        "input_lab = convert_color(input, LabColor, through_rgb_type=sRGBColor)\n"
      ],
      "execution_count": 55,
      "outputs": []
    },
    {
      "cell_type": "code",
      "metadata": {
        "colab": {
          "base_uri": "https://localhost:8080/"
        },
        "id": "Ruz38uzccCKF",
        "outputId": "2f4fe48c-4a1b-4c38-fe44-b4d321808b98"
      },
      "source": [
        "similar = 100000000\n",
        "index = 0\n",
        "\n",
        "#색상 테이블 수에 따라서 range안의 값 바꾸기 - 출력해서 수 확인+1\n",
        "for i in range(48) : \n",
        "  color_n = xy[i][0]\n",
        "\n",
        "  #sRGB 클래스 인스턴스 생성. RGB 값을 넣을 때 is_upscaled=True로 해줘야 함\n",
        "  rgb = sRGBColor(float(xy[i][1]),float(xy[i][2]), float(xy[i][3]), is_upscaled=True)\n",
        "\n",
        "  #Lab으로 변환\n",
        "  lab = convert_color(rgb, LabColor, through_rgb_type=sRGBColor)\n",
        "  #print(lab)\n",
        "\n",
        "  delta_e = delta_e_cie2000(input_lab, lab)\n",
        "  print(i, '번: ',delta_e)\n",
        "\n",
        "  if(similar > delta_e) :\n",
        "    similar = delta_e\n",
        "    index = i\n",
        "\n",
        "best_pair_c = c_pair[index]\n",
        "best_pair_t = t_pair[index]\n",
        "\n",
        "if (similar < 15) :\n",
        "  print('유사 주의')\n",
        "\n",
        "print('유사 기준 : ', similar)\n",
        "print('가장 유사한 색상 인덱스 : ', index)\n",
        "print('complement 조합 : ',best_pair_c) #complementary 배색 \n",
        "print('tonal 조합 : ', best_pair_t) #tonal 배색\n",
        " "
      ],
      "execution_count": 56,
      "outputs": [
        {
          "output_type": "stream",
          "name": "stdout",
          "text": [
            "0 번:  44.4246648200924\n",
            "1 번:  72.22062213222013\n",
            "2 번:  63.133598898295475\n",
            "3 번:  26.93943681267195\n",
            "4 번:  19.483122691869124\n",
            "5 번:  44.80238915386318\n",
            "6 번:  41.24316424313465\n",
            "7 번:  79.52037741278221\n",
            "8 번:  74.35608327087992\n",
            "9 번:  62.94691519969229\n",
            "10 번:  39.71272619257142\n",
            "11 번:  30.97240244459164\n",
            "12 번:  96.10988511870774\n",
            "13 번:  29.258829165952953\n",
            "14 번:  26.966589057934932\n",
            "15 번:  31.54114523276997\n",
            "16 번:  31.627148742848586\n",
            "17 번:  39.50569346124773\n",
            "18 번:  43.440254802131456\n",
            "19 번:  42.32379125492072\n",
            "20 번:  39.25238161639376\n",
            "21 번:  62.44843846199755\n",
            "22 번:  39.44066779137892\n",
            "23 번:  44.6369281767392\n",
            "24 번:  34.52809083426431\n",
            "25 번:  41.812007507731586\n",
            "26 번:  54.951033728089186\n",
            "27 번:  64.31435239710608\n",
            "28 번:  75.93746011602444\n",
            "29 번:  82.85447629111118\n",
            "30 번:  20.569117581174265\n",
            "31 번:  40.8746708966158\n",
            "32 번:  34.011702376715434\n",
            "33 번:  46.712241346943074\n",
            "34 번:  39.874199915253904\n",
            "35 번:  32.664660865189596\n",
            "36 번:  52.43084718590695\n",
            "37 번:  67.05234767399182\n",
            "38 번:  34.701590675321086\n",
            "39 번:  40.85112669892508\n",
            "40 번:  59.40228585204219\n",
            "41 번:  53.153767566406835\n",
            "42 번:  50.88838865125918\n",
            "43 번:  51.94319568948138\n",
            "44 번:  52.57803997401077\n",
            "45 번:  56.87371487604678\n",
            "46 번:  108.47354136077503\n",
            "47 번:  65.0487252793724\n",
            "유사 기준 :  19.483122691869124\n",
            "가장 유사한 색상 인덱스 :  4\n",
            "complement 조합 :  [5, 7, 11, 12]\n",
            "tonal 조합 :  [3]\n"
          ]
        }
      ]
    }
  ]
}