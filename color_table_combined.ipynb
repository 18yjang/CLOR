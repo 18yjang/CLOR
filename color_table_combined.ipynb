{
  "nbformat": 4,
  "nbformat_minor": 0,
  "metadata": {
    "colab": {
      "name": "color_table_combined.ipynb",
      "provenance": []
    },
    "kernelspec": {
      "name": "python3",
      "display_name": "Python 3"
    },
    "language_info": {
      "name": "python"
    }
  },
  "cells": [
    {
      "cell_type": "markdown",
      "metadata": {
        "id": "2CqGSIMhO3lB"
      },
      "source": [
        "**Dominant Color 찾기**"
      ]
    },
    {
      "cell_type": "code",
      "metadata": {
        "colab": {
          "base_uri": "https://localhost:8080/"
        },
        "id": "-dJLchfiOxHA",
        "outputId": "6f77abf7-ae1f-43c5-af65-3ca335aa01a1"
      },
      "source": [
        "pip install opencv-python"
      ],
      "execution_count": 25,
      "outputs": [
        {
          "output_type": "stream",
          "name": "stdout",
          "text": [
            "Requirement already satisfied: opencv-python in /usr/local/lib/python3.7/dist-packages (4.1.2.30)\n",
            "Requirement already satisfied: numpy>=1.14.5 in /usr/local/lib/python3.7/dist-packages (from opencv-python) (1.19.5)\n"
          ]
        }
      ]
    },
    {
      "cell_type": "code",
      "metadata": {
        "id": "lqJ08MgIPG0g"
      },
      "source": [
        "from google.colab.patches import cv2_imshow"
      ],
      "execution_count": 26,
      "outputs": []
    },
    {
      "cell_type": "code",
      "metadata": {
        "id": "KN_mbGxTO1aY"
      },
      "source": [
        "import cv2, numpy as np\n",
        "from sklearn.cluster import KMeans\n",
        "\n",
        "def visualize_colors(cluster, centroids):\n",
        "    # Get the number of different clusters, create histogram, and normalize\n",
        "    labels = np.arange(0, len(np.unique(cluster.labels_)) + 1)\n",
        "    (hist, _) = np.histogram(cluster.labels_, bins = labels)\n",
        "    hist = hist.astype(\"float\")\n",
        "    hist /= hist.sum()\n",
        "\n",
        "    # Create frequency rect and iterate through each cluster's color and percentage\n",
        "    rect = np.zeros((50, 300, 3), dtype=np.uint8)\n",
        "    colors = sorted([(percent, color) for (percent, color) in zip(hist, centroids)])\n",
        "    start = 0\n",
        "\n",
        "    dominant = 0\n",
        "\n",
        "    for (percent, color) in colors:\n",
        "        #print(color, \"{:0.2f}%\".format(percent * 100))\n",
        "        if dominant < percent*100 :\n",
        "          color2 = color.astype(np.int64)\n",
        "          if np.array_equal(color2, [0,0,0]) == False :\n",
        "            dom_color = color\n",
        "        end = start + (percent * 300)\n",
        "        cv2.rectangle(rect, (int(start), 0), (int(end), 50), \\\n",
        "                      color.astype(\"uint8\").tolist(), -1)\n",
        "        start = end\n",
        "    return dom_color, rect"
      ],
      "execution_count": 27,
      "outputs": []
    },
    {
      "cell_type": "code",
      "metadata": {
        "colab": {
          "base_uri": "https://localhost:8080/",
          "height": 102
        },
        "id": "BeEAAgbTPcGe",
        "outputId": "aa41a21e-c588-4294-a706-5bbaae938dac"
      },
      "source": [
        "# Load image and convert to a list of pixels\n",
        "# 배경 삭제한 사진 넣기!!***\n",
        "image = cv2.imread('/content/drive/MyDrive/clor/3.png')\n",
        "image = cv2.cvtColor(image, cv2.COLOR_BGR2RGB)\n",
        "reshape = image.reshape((image.shape[0] * image.shape[1], 3))\n",
        "\n",
        "# Find most dominant colors\n",
        "cluster = KMeans(n_clusters=10).fit(reshape)\n",
        "dominant, visualize = visualize_colors(cluster, cluster.cluster_centers_)\n",
        "print(dominant)\n",
        "\n",
        "# Display most dominant colors - 생략 가능\n",
        "visualize = cv2.cvtColor(visualize, cv2.COLOR_RGB2BGR)\n",
        "cv2_imshow(visualize)\n",
        "cv2.waitKey()"
      ],
      "execution_count": 28,
      "outputs": [
        {
          "output_type": "stream",
          "name": "stdout",
          "text": [
            "[37.21175399 44.83813212 52.83339408]\n"
          ]
        },
        {
          "output_type": "display_data",
          "data": {
            "image/png": "[encoded data removed]",
            "text/plain": [
              "<PIL.Image.Image image mode=RGB size=300x50 at 0x7FE5B1677C90>"
            ]
          },
          "metadata": {}
        },
        {
          "output_type": "execute_result",
          "data": {
            "text/plain": [
              "-1"
            ]
          },
          "metadata": {},
          "execution_count": 28
        }
      ]
    },
    {
      "cell_type": "markdown",
      "metadata": {
        "id": "XCOJlypJOKst"
      },
      "source": [
        "작성한 color_table.csv 파일로 numpy data 생성\n",
        "csv 배열로 저장"
      ]
    },
    {
      "cell_type": "code",
      "metadata": {
        "id": "HqrSNAaNBtgx"
      },
      "source": [
        "import numpy as np\n",
        "import csv\n",
        "\n",
        "data=[]\n",
        "\n",
        "file = open('/content/drive/MyDrive/clor/color_table.csv', 'r', encoding='utf-8')    # file : 파일객체\n",
        "\n",
        "reader = csv.reader(file)  # csv.reader(): for loop을 돌면서 line by line read\n",
        "\n",
        "for line in reader :\n",
        "    data.append(line[1: ])  #color_name 부분은 제외하고 나머지 부분만 append\n",
        "\n",
        "file.close()\n",
        "\n",
        "#print(data)\n",
        "\n",
        "xy =np.array(data[1:])   # 맨 첫줄 column name 제외하고 data만 xy 매트릭스에 저장\n",
        "\n",
        "#print(xy)"
      ],
      "execution_count": 29,
      "outputs": []
    },
    {
      "cell_type": "markdown",
      "metadata": {
        "id": "CzcP44_2OV0T"
      },
      "source": [
        "어울리는 pair 입력하기"
      ]
    },
    {
      "cell_type": "code",
      "metadata": {
        "id": "DJobcrVzOX4I"
      },
      "source": [
        "#contrasting pair\n",
        "c_pair = {0 : [6, 7, 10, 11, 12], 1 : [6, 7, 10, 11, 12], 2 : [5, 6, 7, 11, 12], \\\n",
        "          3 : [7, 8, 9, 11, 12], 4 : [5, 7, 11, 12], 5 : [2, 8, 11, 12], 6 : [0, 1, 2, 11, 12], \\\n",
        "          7 : [0, 1, 4, 10, 11, 12], 8 : [2, 5, 10, 11, 12], 9 : [3, 11, 12], 10 : [0, 1, 7, 8], \\\n",
        "          11 : [14, 15, 16, 18, 21, 22], 12 : [13, 14, 15, 16, 18], 13 : [15, 18, 19, 12, 21], 14 : [11, 19], 15 : [11, 19, 20, 21, 12], \\\n",
        "          16 : [11, 18, 21, 12], 17 : [11, 13, 12], 18 : [11, 13, 15, 17, 12], 19 : [11, 13, 14, 12], 20 : [15, 18], 21 : [13, 15, 16], \\\n",
        "          22 : [11, 28, 29, 12], 23 : [11, 12, 20, 21], 24 : [11, 22, 46, 21, 12], 25 : [11, 22, 29, 12], \\\n",
        "          26 : [11, 23, 28, 20, 12], 27 : [11, 12, 21], 28 : [11, 22, 26, 12], 29 : [11, 22, 23, 24, 12], \\\n",
        "          30 : [11, 36, 37, 46], 31 : [11, 34, 35, 36, 12], 32 : [11, 34, 36, 47, 12], 33 : [11, 36, 47, 12], \\\n",
        "          34 : [35, 11, 12], 35 : [11, 31, 32], 36 : [11, 32, 30, 16, 17], 37 : [11, 34, 32, 31, 33], \\\n",
        "          38 : [11, 35, 36, 12], 39 : [11, 36, 37], 40 : [11, 35, 36, 46], 41 : [11, 36, 46, 12], 42 : [11, 36, 46, 12], \\\n",
        "          43 : [11, 36, 37], 44 : [11, 35, 36, 46], 45 : [11, 36, 46, 12], 46 : [14, 15, 30, 45], 47 : [30, 32, 33], \n",
        "          48 : [35, 11, 12], 49 : [35, 11, 12]}\n",
        "\n",
        "#tonal pair\n",
        "t_pair = {0 : [1, 3], 1 : [0, 3], 2 : [3, 9], 3 : [4, 2], 4 : [3], \\\n",
        "          5 : [4, 6], 6 : [7, 8], 7 : [6, 8], 8 : [6, 7], 9 : [2], 10 : [11, 12], \\\n",
        "          11 : [13, 20], 12 : [20, 21], 13 : [11], 14 : [15, 17], 15 : [13, 16, 17], 16 : [13, 14], \\\n",
        "          17 : [14, 15, 16], 18 : [19], 19 : [18], 20 : [11, 21, 12], 21 : [11, 20, 12], \\\n",
        "          22 : [23], 23 : [22, 28, 29], 24 : [25, 26], 25 : [24, 26], 26 : [24, 25], \\\n",
        "          27 : [22, 23, 28, 29], 28 : [27, 29], 29 : [27, 28], \\\n",
        "          30 : [24, 25], 31 : [32, 33], 32 : [31, 33], 33 : [31, 27, 29], 34 : [50, 51], 35 : [36, 21, 47], \\\n",
        "          36 : [47, 37], 37 : [47, 12], 38 : [42, 44], 39 : [40, 42, 45], 40 : [39, 43, 45], \\\n",
        "          41 : [39, 44], 42 : [39, 44, 43], 43 : [42, 44, 45], 44 : [39, 40], 45 : [39, 44, 43], 46 : [21, 20], 47 : [35, 36, 37], \\\n",
        "          48 : [34, 49], 49 : [34, 48]}"
      ],
      "execution_count": 30,
      "outputs": []
    },
    {
      "cell_type": "markdown",
      "metadata": {
        "id": "Lm49hYt7OYcO"
      },
      "source": [
        "RGB 값을 Lab으로 변환해서 similar color 찾아 similar color과 어울리는 색상 pair의 값 출력"
      ]
    },
    {
      "cell_type": "code",
      "metadata": {
        "colab": {
          "base_uri": "https://localhost:8080/"
        },
        "id": "lFaiLBtjBuGy",
        "outputId": "9e47a710-b9b4-4f9f-8dfb-217650550ac2"
      },
      "source": [
        "pip install colormath "
      ],
      "execution_count": 31,
      "outputs": [
        {
          "output_type": "stream",
          "name": "stdout",
          "text": [
            "Requirement already satisfied: colormath in /usr/local/lib/python3.7/dist-packages (3.0.0)\n",
            "Requirement already satisfied: networkx>=2.0 in /usr/local/lib/python3.7/dist-packages (from colormath) (2.6.3)\n",
            "Requirement already satisfied: numpy in /usr/local/lib/python3.7/dist-packages (from colormath) (1.19.5)\n"
          ]
        }
      ]
    },
    {
      "cell_type": "code",
      "metadata": {
        "id": "aA59Cr_UEnD7"
      },
      "source": [
        "from colormath.color_objects import LabColor, sRGBColor\n",
        "from colormath.color_conversions import convert_color\n",
        "from colormath.color_diff import delta_e_cie2000\n",
        "\n",
        "#입력받은 input - 연결 필요\n",
        "input = sRGBColor(dominant[0], dominant[1], dominant[2], is_upscaled=True) \n",
        "input_lab = convert_color(input, LabColor, through_rgb_type=sRGBColor)\n"
      ],
      "execution_count": 34,
      "outputs": []
    },
    {
      "cell_type": "code",
      "metadata": {
        "colab": {
          "base_uri": "https://localhost:8080/"
        },
        "id": "Ruz38uzccCKF",
        "outputId": "59f1e0f3-d8a1-4304-f1fc-199234baf75f"
      },
      "source": [
        "similar = 100000000\n",
        "index = 0\n",
        "\n",
        "#색상 테이블 수에 따라서 range안의 값 바꾸기 - 출력해서 수 확인+1\n",
        "for i in range(48) : \n",
        "  color_n = xy[i][0]\n",
        "\n",
        "  #sRGB 클래스 인스턴스 생성. RGB 값을 넣을 때 is_upscaled=True로 해줘야 함\n",
        "  rgb = sRGBColor(float(xy[i][1]),float(xy[i][2]), float(xy[i][3]), is_upscaled=True)\n",
        "\n",
        "  #Lab으로 변환\n",
        "  lab = convert_color(rgb, LabColor, through_rgb_type=sRGBColor)\n",
        "  #print(lab)\n",
        "\n",
        "  delta_e = delta_e_cie2000(input_lab, lab)\n",
        "  #print(i, '번: ',delta_e)\n",
        "\n",
        "  if(similar > delta_e) :\n",
        "    similar = delta_e\n",
        "    index = i\n",
        "\n",
        "best_pair_c = c_pair[index]\n",
        "best_pair_t = t_pair[index]\n",
        "\n",
        "if (similar > 15) :\n",
        "  print('유사 주의')\n",
        "\n",
        "print('유사 기준 : ', similar)\n",
        "print('가장 유사한 색상 인덱스 : ', index)\n",
        "print('complement 조합 : ',best_pair_c) #complementary 배색 \n",
        "for i in best_pair_c :\n",
        "  r = float(xy[i][1])\n",
        "  g = float(xy[i][2])\n",
        "  b = float(xy[i][3])\n",
        "  print(i, '번 색상', '( ', r, g,  b, ')')\n",
        "\n",
        "print('tonal 조합 : ', best_pair_t) #tonal 배색\n",
        "for i in best_pair_t :\n",
        "  r = float(xy[i][1])\n",
        "  g = float(xy[i][2])\n",
        "  b = float(xy[i][3])\n",
        "  print(i, '번 색상', '( ', r, g,  b, ')')"
      ],
      "execution_count": 42,
      "outputs": [
        {
          "output_type": "stream",
          "name": "stdout",
          "text": [
            "유사 기준 :  8.778937780386428\n",
            "가장 유사한 색상 인덱스 :  37\n",
            "complement 조합 :  [11, 34, 32, 31, 33]\n",
            "11 번 색상 (  255.0 255.0 255.0 )\n",
            "34 번 색상 (  233.0 231.0 242.0 )\n",
            "32 번 색상 (  240.0 216.0 204.0 )\n",
            "31 번 색상 (  226.0 178.0 158.0 )\n",
            "33 번 색상 (  202.0 154.0 144.0 )\n",
            "tonal 조합 :  [47, 12]\n",
            "47 번 색상 (  61.0 61.0 35.0 )\n",
            "12 번 색상 (  0.0 0.0 0.0 )\n"
          ]
        }
      ]
    }
  ]
}