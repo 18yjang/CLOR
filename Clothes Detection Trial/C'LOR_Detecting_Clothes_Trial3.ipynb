{
 "cells": [
  {
   "cell_type": "markdown",
   "id": "1c2be646",
   "metadata": {},
   "source": [
    "# 의류 영역 검출 - GrabCut 알고리즘 적용\n",
    "\n",
    "그랩컷(grabCut) 알고리즘을 적용하여 배경을 제거"
   ]
  },
  {
   "cell_type": "code",
   "execution_count": 6,
   "id": "6864a6b8",
   "metadata": {},
   "outputs": [
    {
     "data": {
      "image/png": "[encoded data removed]",
      "text/plain": [
       "<Figure size 432x288 with 1 Axes>"
      ]
     },
     "metadata": {
      "needs_background": "light"
     },
     "output_type": "display_data"
    }
   ],
   "source": [
    "# 이미지 로드 후 RGB로 변환\n",
    "image_bgr = cv2.imread(\"C:/Users/emily/desktop/13.png\")\n",
    "image_rgb = cv2.cvtColor(image_bgr, cv2.COLOR_BGR2RGB)\n",
    "# 사각형 좌표: 시작점의 x,y  ,넢이, 너비\n",
    "rectangle = (0, 56, 256, 150)\n",
    "\n",
    "# 초기 마스크 생성\n",
    "mask = np.zeros(image_rgb.shape[:2], np.uint8)\n",
    "\n",
    "# grabCut에 사용할 임시 배열 생성\n",
    "bgdModel = np.zeros((1, 65), np.float64)\n",
    "fgdModel = np.zeros((1, 65), np.float64)\n",
    "\n",
    "# grabCut 실행\n",
    "cv2.grabCut(image_rgb, # 원본 이미지\n",
    "           mask,       # 마스크\n",
    "           rectangle,  # 사각형\n",
    "           bgdModel,   # 배경을 위한 임시 배열\n",
    "           fgdModel,   # 전경을 위한 임시 배열 \n",
    "           5,          # 반복 횟수\n",
    "           cv2.GC_INIT_WITH_RECT) # 사각형을 위한 초기화\n",
    "# 배경인 곳은 0, 그 외에는 1로 설정한 마스크 생성\n",
    "mask_2 = np.where((mask==2) | (mask==0), 0, 1).astype('uint8')\n",
    "\n",
    "# 이미지에 새로운 마스크를 곱행 배경을 제외\n",
    "image_rgb_nobg = image_rgb * mask_2[:, :, np.newaxis]\n",
    "\n",
    "# plot\n",
    "plt.imshow(image_rgb_nobg)\n",
    "plt.show()"
   ]
  }
 ],
 "metadata": {
  "kernelspec": {
   "display_name": "Python 3",
   "language": "python",
   "name": "python3"
  },
  "language_info": {
   "codemirror_mode": {
    "name": "ipython",
    "version": 3
   },
   "file_extension": ".py",
   "mimetype": "text/x-python",
   "name": "python",
   "nbconvert_exporter": "python",
   "pygments_lexer": "ipython3",
   "version": "3.8.8"
  }
 },
 "nbformat": 4,
 "nbformat_minor": 5
}
