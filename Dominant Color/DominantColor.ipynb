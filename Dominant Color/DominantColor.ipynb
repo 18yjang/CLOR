{
 "cells": [
  {
   "cell_type": "markdown",
   "metadata": {},
   "source": [
    "# 색상 출력\n",
    "\n",
    "OpenCV를 활용한 주요 색상 추출. K-means clustering 활용"
   ]
  },
  {
   "cell_type": "code",
   "execution_count": 1,
   "metadata": {},
   "outputs": [
    {
     "name": "stdout",
     "output_type": "stream",
     "text": [
      "C:\\Users\\emily\n"
     ]
    }
   ],
   "source": [
    "import os\n",
    "\n",
    "home_path = os.path.expanduser('~')\n",
    "\n",
    "print (home_path)"
   ]
  },
  {
   "cell_type": "code",
   "execution_count": 2,
   "metadata": {
    "scrolled": true
   },
   "outputs": [
    {
     "name": "stdout",
     "output_type": "stream",
     "text": [
      "Requirement already satisfied: opencv-python in c:\\users\\emily\\anaconda3\\lib\\site-packages (4.5.2.52)\n",
      "Requirement already satisfied: numpy>=1.17.3 in c:\\users\\emily\\anaconda3\\lib\\site-packages (from opencv-python) (1.20.1)\n",
      "Note: you may need to restart the kernel to use updated packages.\n"
     ]
    }
   ],
   "source": [
    "pip install opencv-python"
   ]
  },
  {
   "cell_type": "code",
   "execution_count": 7,
   "metadata": {},
   "outputs": [
    {
     "name": "stdout",
     "output_type": "stream",
     "text": [
      "[115.44637681 160.56908213 211.54492754] 0.32%\n",
      "[205.446875   205.33697917 205.31875   ] 0.58%\n",
      "[218.22813345 220.34806132 222.62714157] 0.70%\n",
      "[189.21804753 188.11592807 188.89434811] 0.96%\n",
      "[175.59146579 205.15141587 238.68000624] 4.05%\n",
      "[150.94167378 186.47549058 225.21686186] 7.97%\n",
      "[168.75340508 199.95149765 236.0835302 ] 10.73%\n",
      "[162.76768582 195.30988403 232.92253558] 11.50%\n",
      "[157.11162881 190.92423717 228.7403346 ] 14.26%\n",
      "[230.97661306 230.97438423 230.97028015] 48.94%\n"
     ]
    },
    {
     "data": {
      "text/plain": [
       "-1"
      ]
     },
     "execution_count": 7,
     "metadata": {},
     "output_type": "execute_result"
    }
   ],
   "source": [
    "import cv2, numpy as np\n",
    "from sklearn.cluster import KMeans\n",
    "\n",
    "def visualize_colors(cluster, centroids):\n",
    "    # Get the number of different clusters, create histogram, and normalize\n",
    "    labels = np.arange(0, len(np.unique(cluster.labels_)) + 1)\n",
    "    (hist, _) = np.histogram(cluster.labels_, bins = labels)\n",
    "    hist = hist.astype(\"float\")\n",
    "    hist /= hist.sum()\n",
    "\n",
    "    # Create frequency rect and iterate through each cluster's color and percentage\n",
    "    rect = np.zeros((50, 300, 3), dtype=np.uint8)\n",
    "    colors = sorted([(percent, color) for (percent, color) in zip(hist, centroids)])\n",
    "    start = 0\n",
    "    for (percent, color) in colors:\n",
    "        print(color, \"{:0.2f}%\".format(percent * 100))\n",
    "        end = start + (percent * 300)\n",
    "        cv2.rectangle(rect, (int(start), 0), (int(end), 50), \\\n",
    "                      color.astype(\"uint8\").tolist(), -1)\n",
    "        start = end\n",
    "    return rect\n",
    "\n",
    "# Load image and convert to a list of pixels\n",
    "image = cv2.imread('C:/Users/emily/desktop/13.png')\n",
    "image = cv2.cvtColor(image, cv2.COLOR_BGR2RGB)\n",
    "reshape = image.reshape((image.shape[0] * image.shape[1], 3))\n",
    "\n",
    "# Find and display most dominant colors\n",
    "cluster = KMeans(n_clusters=10).fit(reshape)\n",
    "visualize = visualize_colors(cluster, cluster.cluster_centers_)\n",
    "visualize = cv2.cvtColor(visualize, cv2.COLOR_RGB2BGR)\n",
    "cv2.imshow('visualize', visualize)\n",
    "cv2.waitKey()"
   ]
  },
  {
   "cell_type": "code",
   "execution_count": null,
   "metadata": {},
   "outputs": [],
   "source": []
  }
 ],
 "metadata": {
  "kernelspec": {
   "display_name": "Python 3",
   "language": "python",
   "name": "python3"
  }
 },
 "nbformat": 4,
 "nbformat_minor": 4
}
